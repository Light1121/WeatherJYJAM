{
 "cells": [
  {
   "cell_type": "markdown",
   "id": "3be1a3f2",
   "metadata": {},
   "source": [
    "CODE FOR DATABASE CONNECTION ENGINE"
   ]
  },
  {
   "cell_type": "code",
   "execution_count": null,
   "id": "f1654399",
   "metadata": {},
   "outputs": [],
   "source": [
    "#IMPORTS\n",
    "from google.cloud.sql.connector import Connector, IPTypes\n",
    "import pymysql\n",
    "import sqlalchemy\n",
    "import os"
   ]
  },
  {
   "cell_type": "code",
   "execution_count": null,
   "id": "069952cc",
   "metadata": {},
   "outputs": [],
   "source": [
    "#Connection to database\n",
    "def connect_with_connector(db: str) -> sqlalchemy.engine.base.Engine:\n",
    "    \"\"\"\n",
    "    Initializes a connection pool for a Cloud SQL instance of MySQL.\n",
    "\n",
    "    Uses the Cloud SQL Python Connector package.\n",
    "    \"\"\"\n",
    "\n",
    "    instance_connection_name = \"esoteric-life-470902-k9:australia-southeast2:jyjam-weatherdata-db\"\n",
    "    db_user = \"admin\" \n",
    "    db_pass = \"Password1!\"\n",
    "    db_name = db\n",
    "\n",
    "    ip_type = IPTypes.PRIVATE if os.environ.get(\"PRIVATE_IP\") else IPTypes.PUBLIC\n",
    "\n",
    "    # initialize Cloud SQL Python Connector object\n",
    "    connector = Connector(ip_type=ip_type, refresh_strategy=\"LAZY\")\n",
    "\n",
    "    def getconn() -> pymysql.connections.Connection:\n",
    "        conn: pymysql.connections.Connection = connector.connect(\n",
    "            instance_connection_name,\n",
    "            \"pymysql\",\n",
    "            user=db_user,\n",
    "            password=db_pass,\n",
    "            db=db_name,\n",
    "        )\n",
    "        return conn\n",
    "\n",
    "    pool = sqlalchemy.create_engine(\n",
    "        \"mysql+pymysql://\",\n",
    "        creator=getconn,\n",
    "    )\n",
    "    return pool\n"
   ]
  },
  {
   "cell_type": "code",
   "execution_count": null,
   "id": "303fa442",
   "metadata": {},
   "outputs": [],
   "source": [
    "#EXAMPLE USAGE\n",
    "\n",
    "#sqlalchemy engine object.\n",
    "db_conn = connect_with_connector(\"weather_data_database\")\n"
   ]
  }
 ],
 "metadata": {
  "language_info": {
   "name": "python"
  }
 },
 "nbformat": 4,
 "nbformat_minor": 5
}
