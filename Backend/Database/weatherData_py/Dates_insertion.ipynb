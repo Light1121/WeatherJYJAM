{
 "cells": [
  {
   "cell_type": "markdown",
   "id": "2fc5b7eb",
   "metadata": {},
   "source": [
    "<h1>Dates table</h1>"
   ]
  },
  {
   "cell_type": "markdown",
   "id": "bc876e25",
   "metadata": {},
   "source": [
    "<h3>IMPORTS</h3>"
   ]
  },
  {
   "cell_type": "code",
   "execution_count": 1,
   "id": "91cc1c3a",
   "metadata": {},
   "outputs": [],
   "source": [
    "#IMPORTS\n",
    "import pandas as pd\n",
    "import os\n",
    "from google.cloud.sql.connector import Connector, IPTypes\n",
    "import pymysql\n",
    "import sqlalchemy\n",
    "from zipfile import ZipFile\n",
    "from datetime import datetime, timedelta"
   ]
  },
  {
   "cell_type": "markdown",
   "id": "e9673daf",
   "metadata": {},
   "source": [
    "<h3>METHODS</h3>"
   ]
  },
  {
   "cell_type": "code",
   "execution_count": 2,
   "id": "624de74e",
   "metadata": {},
   "outputs": [],
   "source": [
    "def get_dates_until_current(start_date_str):\n",
    "    \"\"\"\n",
    "    Generates a list of dates from a given start date up to the current date.\n",
    "\n",
    "    Args:\n",
    "        start_date_str (str): The start date in 'YYYY-MM-DD' format.\n",
    "\n",
    "    Returns:\n",
    "        list: A list of datetime.date objects representing the dates in the range.\n",
    "    \"\"\"\n",
    "    start_date = datetime.strptime(start_date_str, '%Y-%m-%d').date()\n",
    "    current_date = datetime.now().date()\n",
    "    date_list = []\n",
    "\n",
    "    # Iterate from the start_date until it exceeds the current_date\n",
    "    while start_date <= current_date:\n",
    "        date_list.append(start_date)\n",
    "        start_date += timedelta(days=1) # Increment by one day\n",
    "\n",
    "    return date_list\n",
    "\n"
   ]
  },
  {
   "cell_type": "code",
   "execution_count": 3,
   "id": "ddd15946",
   "metadata": {},
   "outputs": [],
   "source": [
    "def create_dates_df(dates_in_range):\n",
    "\n",
    "    # Create DataFrame\n",
    "    dates_df = pd.DataFrame(dates_in_range, columns=[\"Date\"])\n",
    "\n",
    "    #convert to pandas datetime format\n",
    "    dates_df[\"Date\"] = pd.to_datetime(dates_df[\"Date\"])\n",
    "\n",
    "    #extract granularity from dates\n",
    "    dates_df[\"Month\"] = dates_df[\"Date\"].dt.month\n",
    "    dates_df[\"Year\"] = dates_df[\"Date\"].dt.year\n",
    "    dates_df[\"Quarter\"] = dates_df[\"Date\"].dt.quarter\n",
    "\n",
    "    return dates_df"
   ]
  },
  {
   "cell_type": "markdown",
   "id": "ba91da6d",
   "metadata": {},
   "source": [
    "<h3>Establish file paths & connections</h3>"
   ]
  },
  {
   "cell_type": "code",
   "execution_count": 4,
   "id": "9cb0f96b",
   "metadata": {},
   "outputs": [],
   "source": [
    "#Connection to database\n",
    "def connect_with_connector() -> sqlalchemy.engine.base.Engine:\n",
    "    \"\"\"\n",
    "    Initializes a connection pool for a Cloud SQL instance of MySQL.\n",
    "\n",
    "    Uses the Cloud SQL Python Connector package.\n",
    "    \"\"\"\n",
    "\n",
    "    instance_connection_name = \"esoteric-life-470902-k9:australia-southeast2:jyjam-weatherdata-db\"\n",
    "    db_user = \"admin\" \n",
    "    db_pass = \"Password1!\"\n",
    "    db_name =\"weather_data_database\"\n",
    "\n",
    "    ip_type = IPTypes.PRIVATE if os.environ.get(\"PRIVATE_IP\") else IPTypes.PUBLIC\n",
    "\n",
    "    # initialize Cloud SQL Python Connector object\n",
    "    connector = Connector(ip_type=ip_type, refresh_strategy=\"LAZY\")\n",
    "\n",
    "    def getconn() -> pymysql.connections.Connection:\n",
    "        conn: pymysql.connections.Connection = connector.connect(\n",
    "            instance_connection_name,\n",
    "            \"pymysql\",\n",
    "            user=db_user,\n",
    "            password=db_pass,\n",
    "            db=db_name,\n",
    "        )\n",
    "        return conn\n",
    "\n",
    "    pool = sqlalchemy.create_engine(\n",
    "        \"mysql+pymysql://\",\n",
    "        creator=getconn,\n",
    "    )\n",
    "    return pool\n"
   ]
  },
  {
   "cell_type": "code",
   "execution_count": 5,
   "id": "69b159a7",
   "metadata": {},
   "outputs": [],
   "source": [
    "#connection to database\n",
    "db_conn = connect_with_connector()\n",
    "db_table = 'Dates'"
   ]
  },
  {
   "cell_type": "markdown",
   "id": "f5cb2376",
   "metadata": {},
   "source": [
    "<h3>CREATE DATAFRAME</h3>"
   ]
  },
  {
   "cell_type": "code",
   "execution_count": 6,
   "id": "7bbb8f22",
   "metadata": {},
   "outputs": [
    {
     "name": "stdout",
     "output_type": "stream",
     "text": [
      "QUERY complete: SELECT Min(Date) AS OldestDate from weather_data;\n",
      "(None,)\n"
     ]
    }
   ],
   "source": [
    "#Get all dates from start of record to current date\n",
    "start_date_input = '2015-01-01' #YYYY-MM-DD format\n",
    "\n",
    "#check if earliest date\n",
    "sql_earliest_date = sqlalchemy.text(\"SELECT Min(Date) AS OldestDate from weather_data;\")\n",
    "\n",
    "with db_conn.connect() as cursor:\n",
    "    try:\n",
    "        # Execute the DELETE statement\n",
    "        result = cursor.execute(sql_earliest_date)\n",
    "\n",
    "        print(f\"QUERY complete: {sql_earliest_date}\")\n",
    "\n",
    "    except Exception as e:\n",
    "        print(f\"Error -> {e}\")\n",
    "\n",
    "    finally:\n",
    "        # Close the cursor\n",
    "        cursor.close()\n",
    "\n",
    "\n",
    "rows = result.fetchall()\n",
    "\n",
    "for row in rows:\n",
    "    print(row)\n"
   ]
  },
  {
   "cell_type": "markdown",
   "id": "25108776",
   "metadata": {},
   "source": [
    "<h3>INSERT ALL Data into weather_data table</h3>"
   ]
  },
  {
   "cell_type": "code",
   "execution_count": 8,
   "id": "6aac388b",
   "metadata": {},
   "outputs": [],
   "source": [
    "dates_in_range = get_dates_until_current(start_date_input)\n",
    "\n",
    "dates_df = create_dates_df(dates_in_range)\n",
    "\n",
    "with db_conn.connect() as cursor:\n",
    "    dates_df.to_sql(db_table, cursor, if_exists='append', index=False)"
   ]
  },
  {
   "cell_type": "markdown",
   "id": "34f6c993",
   "metadata": {},
   "source": [
    "<h3>RESET TABLE ROWS</h3>"
   ]
  },
  {
   "cell_type": "code",
   "execution_count": null,
   "id": "e5979a6b",
   "metadata": {},
   "outputs": [
    {
     "ename": "AttributeError",
     "evalue": "'Engine' object has no attribute 'cursor'",
     "output_type": "error",
     "traceback": [
      "\u001b[31m---------------------------------------------------------------------------\u001b[39m",
      "\u001b[31mAttributeError\u001b[39m                            Traceback (most recent call last)",
      "\u001b[36mCell\u001b[39m\u001b[36m \u001b[39m\u001b[32mIn[7]\u001b[39m\u001b[32m, line 1\u001b[39m\n\u001b[32m----> \u001b[39m\u001b[32m1\u001b[39m cursor = \u001b[43mdb_conn\u001b[49m\u001b[43m.\u001b[49m\u001b[43mcursor\u001b[49m()\n\u001b[32m      4\u001b[39m sql_create_unique_table = \u001b[33m\"\u001b[39m\u001b[33mCREATE TABLE dates_temp AS SELECT DISTINCT * FROM Dates\u001b[39m\u001b[33m\"\u001b[39m\n\u001b[32m      5\u001b[39m sql_drop_old_table = \u001b[33m\"\u001b[39m\u001b[33mDROP TABLE Dates\u001b[39m\u001b[33m\"\u001b[39m\n",
      "\u001b[31mAttributeError\u001b[39m: 'Engine' object has no attribute 'cursor'"
     ]
    }
   ],
   "source": [
    "# cursor = db_conn.cursor()\n",
    "\n",
    "\n",
    "# sql_create_unique_table = \"CREATE TABLE dates_temp AS SELECT DISTINCT * FROM Dates\"\n",
    "# sql_drop_old_table = \"DROP TABLE Dates\"\n",
    "# sql_create_new_table = \"CREATE TABLE Dates AS SELECT DISTINCT * FROM dates_temp\"\n",
    "# sql_drop_temp_table = \"DROP TABLE dates_temp\"\n",
    "\n",
    "# try:\n",
    "#     # Execute the DELETE statement\n",
    "#     cursor.execute(sql_create_unique_table)\n",
    "#     cursor.execute(sql_drop_old_table)\n",
    "#     cursor.execute(sql_create_new_table)\n",
    "#     cursor.execute(sql_drop_temp_table)\n",
    "\n",
    "\n",
    "#     # Commit the changes to the database\n",
    "#     db_conn.commit()\n",
    "\n",
    "#     print(f\"Distinct '{db_table}' table has been created.\")\n",
    "\n",
    "# except sqlite3.Error as e:\n",
    "#     print(f\"Error creating distinct table: {e}\")\n",
    "\n",
    "# finally:\n",
    "#     # Close the cursor\n",
    "#     cursor.close()"
   ]
  }
 ],
 "metadata": {
  "kernelspec": {
   "display_name": ".venv",
   "language": "python",
   "name": "python3"
  },
  "language_info": {
   "codemirror_mode": {
    "name": "ipython",
    "version": 3
   },
   "file_extension": ".py",
   "mimetype": "text/x-python",
   "name": "python",
   "nbconvert_exporter": "python",
   "pygments_lexer": "ipython3",
   "version": "3.11.9"
  }
 },
 "nbformat": 4,
 "nbformat_minor": 5
}
