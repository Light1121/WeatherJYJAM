{
 "cells": [
  {
   "cell_type": "markdown",
   "id": "2fc5b7eb",
   "metadata": {},
   "source": [
    "<h1>Dates table</h1>"
   ]
  },
  {
   "cell_type": "markdown",
   "id": "bc876e25",
   "metadata": {},
   "source": [
    "<h3>IMPORTS</h3>"
   ]
  },
  {
   "cell_type": "code",
   "execution_count": null,
   "id": "91cc1c3a",
   "metadata": {},
   "outputs": [],
   "source": [
    "#IMPORTS\n",
    "import pandas as pd\n",
    "import sqlite3\n",
    "from datetime import datetime, timedelta"
   ]
  },
  {
   "cell_type": "markdown",
   "id": "e9673daf",
   "metadata": {},
   "source": [
    "<h3>METHODS</h3>"
   ]
  },
  {
   "cell_type": "code",
   "execution_count": null,
   "id": "624de74e",
   "metadata": {},
   "outputs": [],
   "source": [
    "def get_dates_until_current(start_date_str):\n",
    "    \"\"\"\n",
    "    Generates a list of dates from a given start date up to the current date.\n",
    "\n",
    "    Args:\n",
    "        start_date_str (str): The start date in 'YYYY-MM-DD' format.\n",
    "\n",
    "    Returns:\n",
    "        list: A list of datetime.date objects representing the dates in the range.\n",
    "    \"\"\"\n",
    "    start_date = datetime.strptime(start_date_str, '%Y-%m-%d').date()\n",
    "    current_date = datetime.now().date()\n",
    "    date_list = []\n",
    "\n",
    "    # Iterate from the start_date until it exceeds the current_date\n",
    "    while start_date <= current_date:\n",
    "        date_list.append(start_date)\n",
    "        start_date += timedelta(days=1) # Increment by one day\n",
    "\n",
    "    return date_list\n",
    "\n"
   ]
  },
  {
   "cell_type": "code",
   "execution_count": null,
   "id": "ddd15946",
   "metadata": {},
   "outputs": [],
   "source": [
    "def create_dates_df(dates_in_range):\n",
    "\n",
    "    # Create DataFrame\n",
    "    dates_df = pd.DataFrame(dates_in_range, columns=[\"Date\"])\n",
    "\n",
    "    #convert to pandas datetime format\n",
    "    dates_df[\"Date\"] = pd.to_datetime(dates_df[\"Date\"])\n",
    "\n",
    "    #extract granularity from dates\n",
    "    dates_df[\"Month\"] = dates_df[\"Date\"].dt.month\n",
    "    dates_df[\"Year\"] = dates_df[\"Date\"].dt.year\n",
    "    dates_df[\"Quarter\"] = dates_df[\"Date\"].dt.quarter\n",
    "\n",
    "    return dates_df"
   ]
  },
  {
   "cell_type": "markdown",
   "id": "79d16af2",
   "metadata": {},
   "source": [
    "<h3>CREATE DATAFRAME</h3>"
   ]
  },
  {
   "cell_type": "code",
   "execution_count": null,
   "id": "b554ea6f",
   "metadata": {},
   "outputs": [
    {
     "name": "stdout",
     "output_type": "stream",
     "text": [
      "Distinct 'weather_data' table has been created.\n"
     ]
    }
   ],
   "source": [
    "#Get all dates from start of record to current date\n",
    "start_date_input = '2015-01-01' #YYYY-MM-DD format\n",
    "\n",
    "#check if earliest date\n",
    "cursor = db_conn.cursor()\n",
    "\n",
    "\n",
    "sql_earliest_date = \"SELECT Min(Date) AS OldestDate from weather_data;\"\n",
    "\n",
    "\n",
    "try:\n",
    "    # Execute the DELETE statement\n",
    "    cursor.execute(sql_create_unique_table)\n",
    "    cursor.execute(sql_drop_old_table)\n",
    "    cursor.execute(sql_create_new_table)\n",
    "    cursor.execute(sql_drop_temp_table)\n",
    "\n",
    "\n",
    "    # Commit the changes to the database\n",
    "    db_conn.commit()\n",
    "\n",
    "    print(f\"Distinct '{db_table}' table has been created.\")\n",
    "\n",
    "except sqlite3.Error as e:\n",
    "    print(f\"Error creating distinct table: {e}\")\n",
    "\n",
    "finally:\n",
    "    # Close the cursor\n",
    "    cursor.close()\n",
    "\n",
    "\n",
    "dates_in_range = get_dates_until_current(start_date_input)\n",
    "\n",
    "dates_df = create_dates_df(dates_in_range)"
   ]
  },
  {
   "cell_type": "markdown",
   "id": "ba91da6d",
   "metadata": {},
   "source": [
    "<h3>Establish file paths & connections</h3>"
   ]
  },
  {
   "cell_type": "code",
   "execution_count": null,
   "id": "69b159a7",
   "metadata": {},
   "outputs": [],
   "source": [
    "# File paths\n",
    "data_folder_path = \"./../Data/\"\n",
    "db_file_path = \"./../WeatherStationDB.db\"\n",
    "\n",
    "#connection to database\n",
    "db_conn = sqlite3.connect(db_file_path)\n",
    "db_table = 'Dates'"
   ]
  },
  {
   "cell_type": "markdown",
   "id": "34f6c993",
   "metadata": {},
   "source": [
    "<h3>RESET TABLE ROWS</h3>"
   ]
  },
  {
   "cell_type": "code",
   "execution_count": null,
   "id": "e5979a6b",
   "metadata": {},
   "outputs": [
    {
     "name": "stdout",
     "output_type": "stream",
     "text": [
      "Distinct 'Dates' table has been created.\n"
     ]
    }
   ],
   "source": [
    "cursor = db_conn.cursor()\n",
    "\n",
    "\n",
    "sql_create_unique_table = \"CREATE TABLE dates_temp AS SELECT DISTINCT * FROM Dates\"\n",
    "sql_drop_old_table = \"DROP TABLE Dates\"\n",
    "sql_create_new_table = \"CREATE TABLE Dates AS SELECT DISTINCT * FROM dates_temp\"\n",
    "sql_drop_temp_table = \"DROP TABLE dates_temp\"\n",
    "\n",
    "try:\n",
    "    # Execute the DELETE statement\n",
    "    cursor.execute(sql_create_unique_table)\n",
    "    cursor.execute(sql_drop_old_table)\n",
    "    cursor.execute(sql_create_new_table)\n",
    "    cursor.execute(sql_drop_temp_table)\n",
    "\n",
    "\n",
    "    # Commit the changes to the database\n",
    "    db_conn.commit()\n",
    "\n",
    "    print(f\"Distinct '{db_table}' table has been created.\")\n",
    "\n",
    "except sqlite3.Error as e:\n",
    "    print(f\"Error creating distinct table: {e}\")\n",
    "\n",
    "finally:\n",
    "    # Close the cursor\n",
    "    cursor.close()"
   ]
  },
  {
   "cell_type": "markdown",
   "id": "25108776",
   "metadata": {},
   "source": [
    "<h3>INSERT ALL Data into weather_data table</h3>"
   ]
  },
  {
   "cell_type": "code",
   "execution_count": null,
   "id": "6aac388b",
   "metadata": {},
   "outputs": [
    {
     "data": {
      "text/plain": [
       "3892"
      ]
     },
     "metadata": {},
     "output_type": "display_data"
    }
   ],
   "source": [
    "# 'if_exists' can be 'fail', 'replace', or 'append'\n",
    "# 'index=False' prevents writing the DataFrame index as a column in the database\n",
    "dates_df.to_sql(db_table, db_conn, if_exists='append', index=False)"
   ]
  },
  {
   "cell_type": "code",
   "execution_count": null,
   "id": "56ffa83d",
   "metadata": {},
   "outputs": [],
   "source": [
    "# cursor = db_conn.cursor()\n",
    "\n",
    "\n",
    "# sql_create_unique_table = \"CREATE TABLE stations_temp AS SELECT DISTINCT * FROM stations\"\n",
    "# sql_drop_old_table = \"DROP TABLE stations\"\n",
    "# sql_create_new_table = \"CREATE TABLE stations AS SELECT DISTINCT * FROM stations_temp\"\n",
    "# sql_drop_temp_table = \"DROP TABLE stations_temp\"\n",
    "\n",
    "# try:\n",
    "#     # Execute the DELETE statement\n",
    "#     cursor.execute(sql_create_unique_table)\n",
    "#     cursor.execute(sql_drop_old_table)\n",
    "#     cursor.execute(sql_create_new_table)\n",
    "#     cursor.execute(sql_drop_temp_table)\n",
    "\n",
    "\n",
    "#     # Commit the changes to the database\n",
    "#     db_conn.commit()\n",
    "\n",
    "#     print(f\"Distinct '{db_table}' table has been created.\")\n",
    "\n",
    "# except sqlite3.Error as e:\n",
    "#     print(f\"Error creating distinct table: {e}\")\n",
    "\n",
    "# finally:\n",
    "#     # Close the cursor\n",
    "#     cursor.close()"
   ]
  }
 ],
 "metadata": {
  "language_info": {
   "name": "python"
  }
 },
 "nbformat": 4,
 "nbformat_minor": 5
}
