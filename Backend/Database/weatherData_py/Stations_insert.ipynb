{
 "cells": [
  {
   "cell_type": "markdown",
   "id": "a5d60cde",
   "metadata": {},
   "source": [
    "<h1>Stations table</h1>"
   ]
  },
  {
   "cell_type": "markdown",
   "id": "17208a52",
   "metadata": {},
   "source": [
    "<h3>IMPORTS</h3>"
   ]
  },
  {
   "cell_type": "code",
   "execution_count": 1,
   "id": "2aeddfad",
   "metadata": {},
   "outputs": [],
   "source": [
    "#IMPORTS\n",
    "import pandas as pd\n",
    "import os\n",
    "from google.cloud.sql.connector import Connector, IPTypes\n",
    "import pymysql\n",
    "import sqlalchemy\n",
    "from zipfile import ZipFile\n",
    "from datetime import datetime, timedelta"
   ]
  },
  {
   "cell_type": "markdown",
   "id": "5d49e014",
   "metadata": {},
   "source": [
    "<h3>METHODS</h3>"
   ]
  },
  {
   "cell_type": "code",
   "execution_count": 142,
   "id": "fc96d571",
   "metadata": {},
   "outputs": [
    {
     "data": {
      "text/html": [
       "<div>\n",
       "<style scoped>\n",
       "    .dataframe tbody tr th:only-of-type {\n",
       "        vertical-align: middle;\n",
       "    }\n",
       "\n",
       "    .dataframe tbody tr th {\n",
       "        vertical-align: top;\n",
       "    }\n",
       "\n",
       "    .dataframe thead th {\n",
       "        text-align: right;\n",
       "    }\n",
       "</style>\n",
       "<table border=\"1\" class=\"dataframe\">\n",
       "  <thead>\n",
       "    <tr style=\"text-align: right;\">\n",
       "      <th></th>\n",
       "      <th>station_id</th>\n",
       "      <th>Station Name</th>\n",
       "      <th>State</th>\n",
       "      <th>Code</th>\n",
       "      <th>Lat</th>\n",
       "      <th>Lon</th>\n",
       "    </tr>\n",
       "  </thead>\n",
       "  <tbody>\n",
       "    <tr>\n",
       "      <th>0</th>\n",
       "      <td>015590</td>\n",
       "      <td>ALICE SPRINGS AIRPORT</td>\n",
       "      <td>NT</td>\n",
       "      <td>15B</td>\n",
       "      <td>-23.7951</td>\n",
       "      <td>133.889</td>\n",
       "    </tr>\n",
       "    <tr>\n",
       "      <th>1</th>\n",
       "      <td>014272</td>\n",
       "      <td>BATCHELOR AIRPORT</td>\n",
       "      <td>NT</td>\n",
       "      <td>14GA</td>\n",
       "      <td>-13.0544</td>\n",
       "      <td>131.0252</td>\n",
       "    </tr>\n",
       "    <tr>\n",
       "      <th>2</th>\n",
       "      <td>014723</td>\n",
       "      <td>BORROLOOLA AIRPORT</td>\n",
       "      <td>NT</td>\n",
       "      <td>14DE</td>\n",
       "      <td>-16.0755</td>\n",
       "      <td>136.3041</td>\n",
       "    </tr>\n",
       "    <tr>\n",
       "      <th>3</th>\n",
       "      <td>014954</td>\n",
       "      <td>BRADSHAW</td>\n",
       "      <td>NT</td>\n",
       "      <td>14F</td>\n",
       "      <td>-14.9408</td>\n",
       "      <td>130.8091</td>\n",
       "    </tr>\n",
       "    <tr>\n",
       "      <th>4</th>\n",
       "      <td>014808</td>\n",
       "      <td>BRADSHAW - ANGALLARI VALLEY (DEFENCE)</td>\n",
       "      <td>NT</td>\n",
       "      <td>14F</td>\n",
       "      <td>-15.4397</td>\n",
       "      <td>130.5731</td>\n",
       "    </tr>\n",
       "    <tr>\n",
       "      <th>...</th>\n",
       "      <td>...</td>\n",
       "      <td>...</td>\n",
       "      <td>...</td>\n",
       "      <td>...</td>\n",
       "      <td>...</td>\n",
       "      <td>...</td>\n",
       "    </tr>\n",
       "    <tr>\n",
       "      <th>509</th>\n",
       "      <td>013011</td>\n",
       "      <td>WARBURTON AIRFIELD</td>\n",
       "      <td>WA</td>\n",
       "      <td>13</td>\n",
       "      <td>-26.1317</td>\n",
       "      <td>126.5839</td>\n",
       "    </tr>\n",
       "    <tr>\n",
       "      <th>510</th>\n",
       "      <td>013044</td>\n",
       "      <td>WILUNA AERO</td>\n",
       "      <td>WA</td>\n",
       "      <td>13</td>\n",
       "      <td>-26.6273</td>\n",
       "      <td>120.2195</td>\n",
       "    </tr>\n",
       "    <tr>\n",
       "      <th>511</th>\n",
       "      <td>109521</td>\n",
       "      <td>WITCHCLIFFE WEST</td>\n",
       "      <td>WA</td>\n",
       "      <td>09A</td>\n",
       "      <td>-34.0258</td>\n",
       "      <td>115.0637</td>\n",
       "    </tr>\n",
       "    <tr>\n",
       "      <th>512</th>\n",
       "      <td>001006</td>\n",
       "      <td>WYNDHAM AERO</td>\n",
       "      <td>WA</td>\n",
       "      <td>01</td>\n",
       "      <td>-15.51</td>\n",
       "      <td>128.1503</td>\n",
       "    </tr>\n",
       "    <tr>\n",
       "      <th>513</th>\n",
       "      <td>003108</td>\n",
       "      <td>YAMPI SOUND (DEFENCE)</td>\n",
       "      <td>WA</td>\n",
       "      <td>03</td>\n",
       "      <td>-16.7671</td>\n",
       "      <td>123.981</td>\n",
       "    </tr>\n",
       "  </tbody>\n",
       "</table>\n",
       "<p>514 rows × 6 columns</p>\n",
       "</div>"
      ],
      "text/plain": [
       "    station_id                           Station Name State  Code       Lat  \\\n",
       "0       015590                  ALICE SPRINGS AIRPORT    NT   15B  -23.7951   \n",
       "1       014272                      BATCHELOR AIRPORT    NT  14GA  -13.0544   \n",
       "2       014723                     BORROLOOLA AIRPORT    NT  14DE  -16.0755   \n",
       "3       014954                               BRADSHAW    NT   14F  -14.9408   \n",
       "4       014808  BRADSHAW - ANGALLARI VALLEY (DEFENCE)    NT   14F  -15.4397   \n",
       "..         ...                                    ...   ...   ...       ...   \n",
       "509     013011                     WARBURTON AIRFIELD    WA    13  -26.1317   \n",
       "510     013044                            WILUNA AERO    WA    13  -26.6273   \n",
       "511     109521                       WITCHCLIFFE WEST    WA   09A  -34.0258   \n",
       "512     001006                           WYNDHAM AERO    WA    01    -15.51   \n",
       "513     003108                  YAMPI SOUND (DEFENCE)    WA    03  -16.7671   \n",
       "\n",
       "          Lon  \n",
       "0     133.889  \n",
       "1    131.0252  \n",
       "2    136.3041  \n",
       "3    130.8091  \n",
       "4    130.5731  \n",
       "..        ...  \n",
       "509  126.5839  \n",
       "510  120.2195  \n",
       "511  115.0637  \n",
       "512  128.1503  \n",
       "513   123.981  \n",
       "\n",
       "[514 rows x 6 columns]"
      ]
     },
     "execution_count": 142,
     "metadata": {},
     "output_type": "execute_result"
    }
   ],
   "source": [
    "def extract_stations_data():\n",
    "    filepath = \"./../Data/stations_db.csv\"\n",
    "\n",
    "    # Read raw file as lines\n",
    "    with open(filepath, \"r\") as f:\n",
    "        lines = f.readlines()\n",
    "\n",
    "    rows = []\n",
    "    for line in lines:\n",
    "        parts = line.strip().split()\n",
    "        \n",
    "        # First 3 are fixed\n",
    "        first3 = parts[:3]\n",
    "        \n",
    "        # Last 2 are always lat/lon (sometimes lon missing)\n",
    "        # Last 3rd is always the date\n",
    "        last3 = parts[-3:]\n",
    "        \n",
    "        # Everything in between belongs to the \"Name\"\n",
    "        name = \" \".join(parts[3:-3])\n",
    "        \n",
    "        row = first3 + [name] + last3\n",
    "        rows.append(row)\n",
    "\n",
    "    # Create DataFrame\n",
    "    df = pd.DataFrame(rows, columns=[\"station_id\", \"State\", \"Code\", \"Station Name\", \"Date\", \"Lat\", \"Lon\"])\n",
    "    df = df[['station_id', \"Station Name\", \"State\", \"Code\", \"Lat\", \"Lon\"]]\n",
    "\n",
    "    return df\n",
    "\n",
    "\n",
    "extract_stations_data()\n"
   ]
  },
  {
   "cell_type": "markdown",
   "id": "f68d106b",
   "metadata": {},
   "source": [
    "<h3>Establish file paths & connections</h3>"
   ]
  },
  {
   "cell_type": "code",
   "execution_count": 134,
   "id": "23f31a5c",
   "metadata": {},
   "outputs": [],
   "source": [
    "#Connection to database\n",
    "def connect_with_connector() -> sqlalchemy.engine.base.Engine:\n",
    "    \"\"\"\n",
    "    Initializes a connection pool for a Cloud SQL instance of MySQL.\n",
    "\n",
    "    Uses the Cloud SQL Python Connector package.\n",
    "    \"\"\"\n",
    "\n",
    "    instance_connection_name = \"esoteric-life-470902-k9:australia-southeast2:jyjam-weatherdata-db\"\n",
    "    db_user = \"admin\" \n",
    "    db_pass = \"Password1!\"\n",
    "    db_name =\"weather_data_database\"\n",
    "\n",
    "    ip_type = IPTypes.PRIVATE if os.environ.get(\"PRIVATE_IP\") else IPTypes.PUBLIC\n",
    "\n",
    "    # initialize Cloud SQL Python Connector object\n",
    "    connector = Connector(ip_type=ip_type, refresh_strategy=\"LAZY\")\n",
    "\n",
    "    def getconn() -> pymysql.connections.Connection:\n",
    "        conn: pymysql.connections.Connection = connector.connect(\n",
    "            instance_connection_name,\n",
    "            \"pymysql\",\n",
    "            user=db_user,\n",
    "            password=db_pass,\n",
    "            db=db_name,\n",
    "        )\n",
    "        return conn\n",
    "\n",
    "    pool = sqlalchemy.create_engine(\n",
    "        \"mysql+pymysql://\",\n",
    "        creator=getconn,\n",
    "    )\n",
    "    return pool\n"
   ]
  },
  {
   "cell_type": "code",
   "execution_count": 136,
   "id": "38fbbfae",
   "metadata": {},
   "outputs": [],
   "source": [
    "#connection to database\n",
    "db_conn = connect_with_connector()\n",
    "db_table = 'stations'"
   ]
  },
  {
   "cell_type": "markdown",
   "id": "4091b9f8",
   "metadata": {},
   "source": [
    "<h3>CREATE DATAFRAME</h3>"
   ]
  },
  {
   "cell_type": "code",
   "execution_count": 144,
   "id": "186b455b",
   "metadata": {},
   "outputs": [],
   "source": [
    "stations_df = extract_stations_data()"
   ]
  },
  {
   "cell_type": "markdown",
   "id": "e37abc53",
   "metadata": {},
   "source": [
    "<h3>RESET TABLE ROWS</h3>"
   ]
  },
  {
   "cell_type": "code",
   "execution_count": null,
   "id": "95aeadcc",
   "metadata": {},
   "outputs": [
    {
     "name": "stdout",
     "output_type": "stream",
     "text": [
      "Distinct 'Dates' table has been created.\n"
     ]
    }
   ],
   "source": [
    "cursor = db_conn.cursor()\n",
    "\n",
    "\n",
    "sql_create_unique_table = \"CREATE TABLE dates_temp AS SELECT DISTINCT * FROM Dates\"\n",
    "sql_drop_old_table = \"DROP TABLE Dates\"\n",
    "sql_create_new_table = \"CREATE TABLE Dates AS SELECT DISTINCT * FROM dates_temp\"\n",
    "sql_drop_temp_table = \"DROP TABLE dates_temp\"\n",
    "\n",
    "try:\n",
    "    # Execute the DELETE statement\n",
    "    cursor.execute(sql_create_unique_table)\n",
    "    cursor.execute(sql_drop_old_table)\n",
    "    cursor.execute(sql_create_new_table)\n",
    "    cursor.execute(sql_drop_temp_table)\n",
    "\n",
    "\n",
    "    # Commit the changes to the database\n",
    "    db_conn.commit()\n",
    "\n",
    "    print(f\"Distinct '{db_table}' table has been created.\")\n",
    "\n",
    "except sqlite3.Error as e:\n",
    "    print(f\"Error creating distinct table: {e}\")\n",
    "\n",
    "finally:\n",
    "    # Close the cursor\n",
    "    cursor.close()"
   ]
  },
  {
   "cell_type": "markdown",
   "id": "c7ddbf67",
   "metadata": {},
   "source": [
    "<h3>INSERT ALL Data into weather_data table</h3>"
   ]
  },
  {
   "cell_type": "code",
   "execution_count": 148,
   "id": "1915275c",
   "metadata": {},
   "outputs": [],
   "source": [
    "with db_conn.connect() as cursor:\n",
    "    stations_df.to_sql(db_table, cursor, if_exists='append', index=False)"
   ]
  }
 ],
 "metadata": {
  "kernelspec": {
   "display_name": ".venv",
   "language": "python",
   "name": "python3"
  },
  "language_info": {
   "codemirror_mode": {
    "name": "ipython",
    "version": 3
   },
   "file_extension": ".py",
   "mimetype": "text/x-python",
   "name": "python",
   "nbconvert_exporter": "python",
   "pygments_lexer": "ipython3",
   "version": "3.11.9"
  }
 },
 "nbformat": 4,
 "nbformat_minor": 5
}
