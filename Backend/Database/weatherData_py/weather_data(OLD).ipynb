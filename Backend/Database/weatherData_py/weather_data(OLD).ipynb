{
 "cells": [
  {
   "cell_type": "markdown",
   "id": "3b47fc8c",
   "metadata": {},
   "source": [
    "<h1>Weather data table</h1>"
   ]
  },
  {
   "cell_type": "markdown",
   "id": "185f16a2",
   "metadata": {},
   "source": [
    "<h3>IMPORTS</h3>"
   ]
  },
  {
   "cell_type": "code",
   "execution_count": null,
   "id": "e39a2468",
   "metadata": {},
   "outputs": [],
   "source": [
    "#IMPORTS\n",
    "import pandas as pd\n",
    "import sqlite3\n",
    "import os"
   ]
  },
  {
   "cell_type": "markdown",
   "id": "af24ac46",
   "metadata": {},
   "source": [
    "<h3>METHODS</h3>"
   ]
  },
  {
   "cell_type": "code",
   "execution_count": 2,
   "id": "023410c2",
   "metadata": {},
   "outputs": [],
   "source": [
    "#process 1 csv file \n",
    "\n",
    "def extract_data(file_path):\n",
    "\n",
    "    try:\n",
    "        df = pd.read_csv(file_path, encoding='latin1', header = None, keep_default_na=False, index_col=None)\n",
    "    except Exception as e:\n",
    "        raise Exception(\"ERROR READING CSV:\", file_path, \"-- WITH ERROR:\", e)   \n",
    "    \n",
    "    df = df.drop([0,1,2,3,4,5,6])  # Drop the first 7 rows\n",
    "\n",
    "\n",
    "    try:\n",
    "        df = df.iloc[:, [0, 1, 3, 5, 6, 7, 8 , 9 ]]   \n",
    "    except:\n",
    "        raise Exception(\"column names not properly formatted in file\")\n",
    "\n",
    "    row1 = df.iloc[0]\n",
    "    row2 = df.iloc[1]\n",
    "    row3 = df.iloc[2]\n",
    "    row4 = df.iloc[3]\n",
    "    df = df.drop(df.index[-1])\n",
    "\n",
    "\n",
    "    def combine_rows(row1, row2):\n",
    "        combined_row = {}\n",
    "        for col in row1.index:\n",
    "            combined_row[col] = (str(row1[col]) + \" \" + str(row2[col])).strip()\n",
    "        return pd.DataFrame([combined_row]).iloc[0]  \n",
    "        \n",
    "\n",
    "    header_row = combine_rows(combine_rows(combine_rows(row1, row2), row3), row4)\n",
    "\n",
    "    #Set top row as header row values\n",
    "    df.columns = header_row.tolist()\n",
    "    df = df.drop(df.index[[0,1,2,3]])  # Drop the first four rows which are now redundant\n",
    "\n",
    "    df = df.reset_index(drop=True)  # Reset the index\n",
    "\n",
    "    return df\n",
    "\n"
   ]
  },
  {
   "cell_type": "code",
   "execution_count": 3,
   "id": "08c4e699",
   "metadata": {},
   "outputs": [],
   "source": [
    "def insert_data_from_file(file_path, connection, db_table):\n",
    "    try:\n",
    "        df = extract_data(file_path)\n",
    "    except Exception as e:\n",
    "        return e\n",
    "\n",
    "    try:\n",
    "        df.to_sql(db_table, connection, if_exists='append', index=False)   \n",
    "    except Exception as e:\n",
    "        return e"
   ]
  },
  {
   "cell_type": "markdown",
   "id": "2cb4cada",
   "metadata": {},
   "source": [
    "<h3>Establish file paths & connections</h3>"
   ]
  },
  {
   "cell_type": "code",
   "execution_count": null,
   "id": "215b0425",
   "metadata": {},
   "outputs": [],
   "source": [
    "# File paths\n",
    "data_folder_path = \"./../Data/\"\n",
    "db_file_path = \"./../WeatherStationDB.db\"\n",
    "\n",
    "#connection to database\n",
    "db_conn = sqlite3.connect(db_file_path)\n",
    "db_table = 'weather_data'\n"
   ]
  },
  {
   "cell_type": "markdown",
   "id": "1567ec0b",
   "metadata": {},
   "source": [
    "<h3>RESET TABLE ROWS</h3>"
   ]
  },
  {
   "cell_type": "code",
   "execution_count": 7,
   "id": "848fd7e3",
   "metadata": {},
   "outputs": [
    {
     "ename": "AttributeError",
     "evalue": "'Engine' object has no attribute 'cursor'",
     "output_type": "error",
     "traceback": [
      "\u001b[31m---------------------------------------------------------------------------\u001b[39m",
      "\u001b[31mAttributeError\u001b[39m                            Traceback (most recent call last)",
      "\u001b[36mCell\u001b[39m\u001b[36m \u001b[39m\u001b[32mIn[7]\u001b[39m\u001b[32m, line 1\u001b[39m\n\u001b[32m----> \u001b[39m\u001b[32m1\u001b[39m cursor = \u001b[43mdb_conn\u001b[49m\u001b[43m.\u001b[49m\u001b[43mcursor\u001b[49m()\n\u001b[32m      3\u001b[39m \u001b[38;5;66;03m# SQL statement to delete all rows from the table\u001b[39;00m\n\u001b[32m      4\u001b[39m sql_delete_all_rows = \u001b[33mf\u001b[39m\u001b[33m\"\u001b[39m\u001b[33mDELETE FROM \u001b[39m\u001b[38;5;132;01m{\u001b[39;00mdb_table\u001b[38;5;132;01m}\u001b[39;00m\u001b[33m;\u001b[39m\u001b[33m\"\u001b[39m\n",
      "\u001b[31mAttributeError\u001b[39m: 'Engine' object has no attribute 'cursor'"
     ]
    }
   ],
   "source": [
    "cursor = db_conn.cursor()\n",
    "\n",
    "# SQL statement to delete all rows from the table\n",
    "sql_delete_all_rows = f\"DELETE FROM {db_table};\"\n",
    "\n",
    "try:\n",
    "    # Execute the DELETE statement\n",
    "    cursor.execute(sql_delete_all_rows)\n",
    "\n",
    "    # Commit the changes to the database\n",
    "    db_conn.commit()\n",
    "\n",
    "    print(f\"All rows deleted from table '{db_table}'.\")\n",
    "\n",
    "except Exception as e:\n",
    "    print(f\"Error deleting rows: {e}\")\n",
    "\n",
    "finally:\n",
    "    # Close the cursor\n",
    "    cursor.close()\n"
   ]
  },
  {
   "cell_type": "markdown",
   "id": "1a2aab39",
   "metadata": {},
   "source": [
    "<h3>MAKE UNIQUE TABLE DATA</h3>"
   ]
  },
  {
   "cell_type": "code",
   "execution_count": null,
   "id": "f26685d0",
   "metadata": {},
   "outputs": [
    {
     "name": "stdout",
     "output_type": "stream",
     "text": [
      "Distinct 'weather_data' table has been created.\n"
     ]
    }
   ],
   "source": [
    "# cursor = db_conn.cursor()\n",
    "\n",
    "\n",
    "# sql_create_unique_table = \"CREATE TABLE weather_data_temp AS SELECT DISTINCT * FROM weather_data\"\n",
    "# sql_drop_old_table = \"DROP TABLE weather_data\"\n",
    "# sql_create_new_table = \"CREATE TABLE weather_data AS SELECT DISTINCT * FROM weather_data_temp\"\n",
    "# sql_drop_temp_table = \"DROP TABLE weather_data_temp\"\n",
    "\n",
    "# try:\n",
    "#     # Execute the DELETE statement\n",
    "#     cursor.execute(sql_create_unique_table)\n",
    "#     cursor.execute(sql_drop_old_table)\n",
    "#     cursor.execute(sql_create_new_table)\n",
    "#     cursor.execute(sql_drop_temp_table)\n",
    "\n",
    "\n",
    "#     # Commit the changes to the database\n",
    "#     db_conn.commit()\n",
    "\n",
    "#     print(f\"Distinct '{db_table}' table has been created.\")\n",
    "\n",
    "# except sqlite3.Error as e:\n",
    "#     print(f\"Error creating distinct table: {e}\")\n",
    "\n",
    "# finally:\n",
    "#     # Close the cursor\n",
    "#     cursor.close()"
   ]
  },
  {
   "cell_type": "markdown",
   "id": "ca8aff9f",
   "metadata": {},
   "source": [
    "<h3>INSERT ALL Data into weather_data table</h3>"
   ]
  },
  {
   "cell_type": "code",
   "execution_count": null,
   "id": "ae2ff352",
   "metadata": {},
   "outputs": [
    {
     "name": "stdout",
     "output_type": "stream",
     "text": [
      "[WinError 3] The system cannot find the path specified: './Data/wa'\n"
     ]
    }
   ],
   "source": [
    "#extract data from files in folder and insert into db\n",
    "\n",
    "states = ['vic', 'wa','tas','act','nt']\n",
    "\n",
    "\n",
    "for state in states:\n",
    "    # Get the list of all files in directory\n",
    "    try:\n",
    "        state_data_path = data_folder_path + state\n",
    "        dir_list = os.listdir(state_data_path)\n",
    "    except Exception as e:\n",
    "        print(e)\n",
    "        continue\n",
    "\n",
    "    for data_file in dir_list:\n",
    "        # get relative data file path\n",
    "        data_file_path = state_data_path + \"/\" + data_file\n",
    "\n",
    "        try:\n",
    "            df = extract_data(data_file_path)\n",
    "        except Exception as e:\n",
    "            continue\n",
    "\n",
    "        # 'if_exists' can be 'fail', 'replace', or 'append'\n",
    "        # 'index=False' prevents writing the DataFrame index as a column in the database\n",
    "        try:\n",
    "            df.to_sql(db_table, db_conn, if_exists='append', index=False)\n",
    "        except Exception as e:\n",
    "            print(\"error with file:\", data_file_path, \"ERROR CAUGHT:\", e)\n",
    "            pass"
   ]
  }
 ],
 "metadata": {
  "kernelspec": {
   "display_name": ".venv",
   "language": "python",
   "name": "python3"
  },
  "language_info": {
   "codemirror_mode": {
    "name": "ipython",
    "version": 3
   },
   "file_extension": ".py",
   "mimetype": "text/x-python",
   "name": "python",
   "nbconvert_exporter": "python",
   "pygments_lexer": "ipython3",
   "version": "3.11.9"
  }
 },
 "nbformat": 4,
 "nbformat_minor": 5
}
