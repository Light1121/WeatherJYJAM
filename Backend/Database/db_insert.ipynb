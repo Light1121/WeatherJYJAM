{
 "cells": [
  {
   "cell_type": "markdown",
   "id": "185f16a2",
   "metadata": {},
   "source": [
    "<h3>Read data file</h3>"
   ]
  },
  {
   "cell_type": "code",
   "execution_count": null,
   "id": "e39a2468",
   "metadata": {},
   "outputs": [],
   "source": [
    "import pandas as pd"
   ]
  },
  {
   "cell_type": "code",
   "execution_count": 79,
   "id": "023410c2",
   "metadata": {},
   "outputs": [],
   "source": [
    "#process 1 csv file \n",
    "\n",
    "\n",
    "def extract_data(file_path):\n",
    "\n",
    "    df = pd.read_csv(file_path, encoding='latin1', header = None, keep_default_na=False, index_col=None)\n",
    "    df = df.drop([0,1,2,3,4,5,6,7])  # Drop the first 7 rows\n",
    "\n",
    "    row1 = df.iloc[0]\n",
    "    row2 = df.iloc[1]\n",
    "    row3 = df.iloc[2]\n",
    "\n",
    "    def combine_rows(row1, row2):\n",
    "        combined_row = {}\n",
    "        for col in row1.index:\n",
    "            combined_row[col] = str(row1[col]) + \"  \" + str(row2[col])\n",
    "        return pd.DataFrame([combined_row]).iloc[0]\n",
    "        \n",
    "\n",
    "    header_row = combine_rows(combine_rows(row1, row2), row3)\n",
    "\n",
    "    # #Set top row as header row values\n",
    "    df.columns = header_row.tolist()\n",
    "    df = df.drop(df.index[[0,1,2]])  # Drop the first three rows which are now redundant\n",
    "\n",
    "    df = df.reset_index(drop=True)  # Reset the index\n"
   ]
  },
  {
   "cell_type": "code",
   "execution_count": null,
   "id": "40b37dca",
   "metadata": {},
   "outputs": [],
   "source": []
  },
  {
   "cell_type": "code",
   "execution_count": null,
   "id": "885b4983",
   "metadata": {},
   "outputs": [
    {
     "name": "stdout",
     "output_type": "stream",
     "text": [
      "    Station Name        Date   Transpiration  0000-2400  (mm)  \\\n",
      "0     AIREYS INLET  01/09/2015                            2.1   \n",
      "1     AIREYS INLET  02/09/2015                            2.5   \n",
      "2     AIREYS INLET  03/09/2015                            1.7   \n",
      "3     AIREYS INLET  04/09/2015                            1.9   \n",
      "\n",
      "  Rain  0900-0900  (mm) Evaporation  0900-0900  (mm)  \\\n",
      "0                   0.0                                \n",
      "1                   0.0                                \n",
      "2                   5.2                                \n",
      "3                   0.4                                \n",
      "\n",
      "  Maximum  Temperature  (°C) Minimum  Temperature  (°C)  \\\n",
      "0                       14.9                        3.2   \n",
      "1                       19.3                        7.5   \n",
      "2                       12.9                        9.5   \n",
      "3                       14.2                        8.2   \n",
      "\n",
      "  Relative  Humidity  (%) Relative  Humidity  (%) 10m Wind  Speed  (m/sec)  \\\n",
      "0                      88                      50                     2.40   \n",
      "1                      95                      43                     3.53   \n",
      "2                      95                      64                     5.88   \n",
      "3                      86                      59                     3.17   \n",
      "\n",
      "  Solar  Radiation  (MJ/sq m)  \n",
      "0                       15.51  \n",
      "1                       10.13  \n",
      "2                        7.06  \n",
      "3                        9.35   Index(['  Station Name  ', '  Date  ', 'Transpiration  0000-2400  (mm)',\n",
      "       'Rain  0900-0900  (mm)', 'Evaporation  0900-0900  (mm)',\n",
      "       'Maximum  Temperature  (°C)', 'Minimum  Temperature  (°C)',\n",
      "       'Relative  Humidity  (%)', 'Relative  Humidity  (%)',\n",
      "       '10m Wind  Speed  (m/sec)', 'Solar  Radiation  (MJ/sq m)'],\n",
      "      dtype='object') 0                     Station Name  \n",
      "1                             Date  \n",
      "2     Transpiration  0000-2400  (mm)\n",
      "3              Rain  0900-0900  (mm)\n",
      "4       Evaporation  0900-0900  (mm)\n",
      "5         Maximum  Temperature  (°C)\n",
      "6         Minimum  Temperature  (°C)\n",
      "7            Relative  Humidity  (%)\n",
      "8            Relative  Humidity  (%)\n",
      "9           10m Wind  Speed  (m/sec)\n",
      "10       Solar  Radiation  (MJ/sq m)\n",
      "Name: 0, dtype: object\n"
     ]
    }
   ],
   "source": [
    "\n",
    "\n",
    "data_id = 'aireys_inlet-201509'\n",
    "\n",
    "file_ext = '.csv'\n",
    "file_path = './Data/vic/' + data_id + file_ext\n",
    "\n",
    "\n",
    "\n"
   ]
  },
  {
   "cell_type": "code",
   "execution_count": null,
   "id": "028f04fa",
   "metadata": {},
   "outputs": [],
   "source": [
    "import sqlite3\n",
    "db_file_path = 'your_database.db'\n",
    "conn = sqlite3.connect(db_file_path)"
   ]
  },
  {
   "cell_type": "code",
   "execution_count": null,
   "id": "5f8a4ca0",
   "metadata": {},
   "outputs": [],
   "source": [
    "table_name = 'your_table_name'\n",
    "df.to_sql(table_name, conn, if_exists='replace', index=False)\n",
    "# 'if_exists' can be 'fail', 'replace', or 'append'\n",
    "# 'index=False' prevents writing the DataFrame index as a column in the database\n",
    "\n",
    "try:\n",
    "    # 1. Read the Excel file into a pandas DataFrame\n",
    "    df = pd.read_excel(excel_file_path, sheet_name='Sheet1') # Adjust sheet_name if necessary\n",
    "\n",
    "    # 2. Connect to the SQLite database\n",
    "    conn = sqlite3.connect(db_file_path)\n",
    "\n",
    "    # 3. Insert the DataFrame into the SQLite table\n",
    "    # 'if_exists' options: 'fail', 'replace', 'append'\n",
    "    # 'index=False' prevents writing the DataFrame index as a column\n",
    "    df.to_sql(table_name, conn, if_exists='replace', index=False)\n",
    "\n",
    "    print(f\"Data from '{excel_file_path}' successfully bulk inserted into table '{table_name}' in '{db_file_path}'.\")\n",
    "\n",
    "except FileNotFoundError:\n",
    "    print(f\"Error: The file '{excel_file_path}' was not found.\")\n",
    "except Exception as e:\n",
    "    print(f\"An error occurred: {e}\")\n",
    "finally:\n",
    "    # 4. Close the database connection\n",
    "    if 'conn' in locals() and conn:\n",
    "        conn.close()"
   ]
  }
 ],
 "metadata": {
  "kernelspec": {
   "display_name": "base",
   "language": "python",
   "name": "python3"
  },
  "language_info": {
   "codemirror_mode": {
    "name": "ipython",
    "version": 3
   },
   "file_extension": ".py",
   "mimetype": "text/x-python",
   "name": "python",
   "nbconvert_exporter": "python",
   "pygments_lexer": "ipython3",
   "version": "3.11.3"
  }
 },
 "nbformat": 4,
 "nbformat_minor": 5
}
