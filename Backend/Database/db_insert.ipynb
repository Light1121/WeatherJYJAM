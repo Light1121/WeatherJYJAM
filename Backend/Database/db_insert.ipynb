{
 "cells": [
  {
   "cell_type": "code",
   "execution_count": null,
   "id": "885b4983",
   "metadata": {},
   "outputs": [],
   "source": [
    "import pandas as pd\n",
    "excel_file_path = 'your_excel_file.xlsx'\n",
    "df = pd.read_excel(excel_file_path, sheet_name='Sheet1') # Adjust sheet_name as needed"
   ]
  },
  {
   "cell_type": "code",
   "execution_count": null,
   "id": "028f04fa",
   "metadata": {},
   "outputs": [],
   "source": [
    "import sqlite3\n",
    "db_file_path = 'your_database.db'\n",
    "conn = sqlite3.connect(db_file_path)"
   ]
  },
  {
   "cell_type": "code",
   "execution_count": null,
   "id": "5f8a4ca0",
   "metadata": {},
   "outputs": [],
   "source": [
    "table_name = 'your_table_name'\n",
    "df.to_sql(table_name, conn, if_exists='replace', index=False)\n",
    "# 'if_exists' can be 'fail', 'replace', or 'append'\n",
    "# 'index=False' prevents writing the DataFrame index as a column in the database\n",
    "\n",
    "try:\n",
    "    # 1. Read the Excel file into a pandas DataFrame\n",
    "    df = pd.read_excel(excel_file_path, sheet_name='Sheet1') # Adjust sheet_name if necessary\n",
    "\n",
    "    # 2. Connect to the SQLite database\n",
    "    conn = sqlite3.connect(db_file_path)\n",
    "\n",
    "    # 3. Insert the DataFrame into the SQLite table\n",
    "    # 'if_exists' options: 'fail', 'replace', 'append'\n",
    "    # 'index=False' prevents writing the DataFrame index as a column\n",
    "    df.to_sql(table_name, conn, if_exists='replace', index=False)\n",
    "\n",
    "    print(f\"Data from '{excel_file_path}' successfully bulk inserted into table '{table_name}' in '{db_file_path}'.\")\n",
    "\n",
    "except FileNotFoundError:\n",
    "    print(f\"Error: The file '{excel_file_path}' was not found.\")\n",
    "except Exception as e:\n",
    "    print(f\"An error occurred: {e}\")\n",
    "finally:\n",
    "    # 4. Close the database connection\n",
    "    if 'conn' in locals() and conn:\n",
    "        conn.close()"
   ]
  }
 ],
 "metadata": {
  "kernelspec": {
   "display_name": "base",
   "language": "python",
   "name": "python3"
  },
  "language_info": {
   "name": "python",
   "version": "3.11.3"
  }
 },
 "nbformat": 4,
 "nbformat_minor": 5
}
